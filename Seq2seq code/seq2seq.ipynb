{
  "nbformat": 4,
  "nbformat_minor": 0,
  "metadata": {
    "colab": {
      "name": "seq2seq.ipynb",
      "provenance": [],
      "collapsed_sections": []
    },
    "kernelspec": {
      "name": "python3",
      "display_name": "Python 3"
    },
    "language_info": {
      "name": "python"
    },
    "accelerator": "GPU"
  },
  "cells": [
    {
      "cell_type": "code",
      "metadata": {
        "id": "Jdjoxpcz-Ngn"
      },
      "source": [
        "from __future__ import unicode_literals, print_function, division\n",
        "from io import open\n",
        "import unicodedata\n",
        "import string\n",
        "import re\n",
        "import random\n",
        "\n",
        "import torch\n",
        "import torch.nn as nn\n",
        "from torch import optim\n",
        "import torch.nn.functional as F\n",
        "import os\n",
        "device = torch.device(\"cuda\" if torch.cuda.is_available() else \"cpu\")"
      ],
      "execution_count": 1,
      "outputs": []
    },
    {
      "cell_type": "code",
      "metadata": {
        "colab": {
          "base_uri": "https://localhost:8080/"
        },
        "id": "STvYaq3h18Gp",
        "outputId": "f6ea04e2-b6c8-4d9b-b372-d1a07831c515"
      },
      "source": [
        "from google.colab import drive \n",
        "drive.mount('/content/gdrive/')\n",
        "path = '/content/gdrive/My Drive/Colab Notebooks/wmt16/'"
      ],
      "execution_count": 2,
      "outputs": [
        {
          "output_type": "stream",
          "name": "stdout",
          "text": [
            "Mounted at /content/gdrive/\n"
          ]
        }
      ]
    },
    {
      "cell_type": "code",
      "metadata": {
        "id": "knrGEPGgLY4g"
      },
      "source": [
        "def wmt_dataset(directory=path):\n",
        "  ret = []\n",
        "  splits = ['train','val','test']\n",
        "\n",
        "  for filename in splits:\n",
        "    examples = []\n",
        "\n",
        "    en_path = os.path.join(directory, filename + '.en')\n",
        "    de_path = os.path.join(directory, filename + '.de')\n",
        "    en_file = [l.strip() for l in open(en_path, 'r', encoding='utf-8')]\n",
        "    de_file = [l.strip() for l in open(de_path, 'r', encoding='utf-8')]\n",
        "    assert len(en_file) == len(de_file)\n",
        "    for i in range(len(en_file)):\n",
        "      if en_file[i] != '' and de_file[i] != '' and en_file[i] != ' ' and de_file[i] != ' ' :\n",
        "        examples.append({'en': en_file[i], 'de': de_file[i]})\n",
        "\n",
        "    ret.append(examples)\n",
        "\n",
        "  if len(ret) == 1:\n",
        "    return ret[0]\n",
        "  else:\n",
        "    return tuple(ret)"
      ],
      "execution_count": 3,
      "outputs": []
    },
    {
      "cell_type": "code",
      "metadata": {
        "id": "v3yXj4CX8WZj"
      },
      "source": [
        ""
      ],
      "execution_count": 3,
      "outputs": []
    },
    {
      "cell_type": "code",
      "metadata": {
        "id": "P4e8jkV-LY7G"
      },
      "source": [
        "dataset = wmt_dataset()"
      ],
      "execution_count": 4,
      "outputs": []
    },
    {
      "cell_type": "code",
      "metadata": {
        "colab": {
          "base_uri": "https://localhost:8080/"
        },
        "id": "1lcIpdogLY9d",
        "outputId": "96afda21-7155-4f2d-c5c9-ce6e0d22ba3d"
      },
      "source": [
        "len(dataset)"
      ],
      "execution_count": 5,
      "outputs": [
        {
          "output_type": "execute_result",
          "data": {
            "text/plain": [
              "3"
            ]
          },
          "metadata": {},
          "execution_count": 5
        }
      ]
    },
    {
      "cell_type": "code",
      "metadata": {
        "colab": {
          "base_uri": "https://localhost:8080/",
          "height": 36
        },
        "id": "wTTk6TcFLY_x",
        "outputId": "cd08ed13-f2ff-47c4-b4e5-8930b529453d"
      },
      "source": [
        "dataset[0][0]['de']"
      ],
      "execution_count": 6,
      "outputs": [
        {
          "output_type": "execute_result",
          "data": {
            "text/plain": [
              "'Zwei junge weiße Männer sind im Freien in der Nähe vieler Büsche.'"
            ],
            "application/vnd.google.colaboratory.intrinsic+json": {
              "type": "string"
            }
          },
          "metadata": {},
          "execution_count": 6
        }
      ]
    },
    {
      "cell_type": "code",
      "metadata": {
        "id": "ihoUFP6_PV1S"
      },
      "source": [
        "data_en = []\n",
        "data_de = []\n",
        "test_en = []\n",
        "test_de = []\n",
        "for i in range(2):\n",
        "  for sentence in dataset[i]:\n",
        "    data_en.append(sentence['en'])\n",
        "    data_de.append(sentence['de'])\n",
        "\n",
        "for sentence in dataset[2]:\n",
        "  test_en.append(sentence['en'])\n",
        "  test_de.append(sentence['en'])"
      ],
      "execution_count": 7,
      "outputs": []
    },
    {
      "cell_type": "code",
      "metadata": {
        "colab": {
          "base_uri": "https://localhost:8080/"
        },
        "id": "xh0NoSD5QyOX",
        "outputId": "be50d946-0e71-4875-fbeb-4a36fd3abc07"
      },
      "source": [
        "from nltk.tokenize import word_tokenize, sent_tokenize\n",
        "import nltk\n",
        "nltk.download('punkt')"
      ],
      "execution_count": 8,
      "outputs": [
        {
          "output_type": "stream",
          "name": "stdout",
          "text": [
            "[nltk_data] Downloading package punkt to /root/nltk_data...\n",
            "[nltk_data]   Unzipping tokenizers/punkt.zip.\n"
          ]
        },
        {
          "output_type": "execute_result",
          "data": {
            "text/plain": [
              "True"
            ]
          },
          "metadata": {},
          "execution_count": 8
        }
      ]
    },
    {
      "cell_type": "code",
      "metadata": {
        "id": "1UGRCUhGQ1cI"
      },
      "source": [
        "# 각 문장에 대해서 구두점을 제거하고, 대문자를 소문자로 변환.\n",
        "normalized_en = []\n",
        "for string in data_en:\n",
        "    string = re.sub(r\"[^a-zA-Z0-9]+\", r\" \", string)\n",
        "    tokens = string.lower().strip()\n",
        "    normalized_en.append(tokens)\n",
        "\n",
        "\n",
        "# 각 문장에 대해서 구두점을 제거하고, 대문자를 소문자로 변환.\n",
        "normalized_de = []\n",
        "for string in data_de:\n",
        "    string = re.sub(r\"[^a-zA-ZÄäÖöÜüß0-9]+\", r\" \", string)\n",
        "    tokens = string.lower().strip()\n",
        "    normalized_de.append(tokens)"
      ],
      "execution_count": 9,
      "outputs": []
    },
    {
      "cell_type": "code",
      "metadata": {
        "id": "vSlekJnjgWto"
      },
      "source": [
        "normalized_test_en = []\n",
        "for string in test_en:\n",
        "    string = re.sub(r\"[^a-zA-Z0-9]+\", r\" \", string)\n",
        "    tokens = string.lower().strip()\n",
        "    normalized_test_en.append(tokens)\n",
        "\n",
        "\n",
        "# 각 문장에 대해서 구두점을 제거하고, 대문자를 소문자로 변환.\n",
        "normalized_test_de = []\n",
        "for string in test_de:\n",
        "    string = re.sub(r\"[^a-zA-ZÄäÖöÜüß0-9]+\", r\" \", string)\n",
        "    tokens = string.lower().strip()\n",
        "    normalized_test_de.append(tokens)"
      ],
      "execution_count": 10,
      "outputs": []
    },
    {
      "cell_type": "code",
      "metadata": {
        "id": "3ZMymTcZSfKF"
      },
      "source": [
        "result_de =  [word_tokenize(sentence) for sentence in normalized_de]\n",
        "result_en =  [word_tokenize(sentence) for sentence in normalized_en]"
      ],
      "execution_count": 11,
      "outputs": []
    },
    {
      "cell_type": "code",
      "metadata": {
        "id": "UJgj--4jgmgi"
      },
      "source": [
        "result_test_de = [word_tokenize(sentence) for sentence in normalized_test_de]\n",
        "result_test_en = [word_tokenize(sentence) for sentence in normalized_test_de]"
      ],
      "execution_count": 12,
      "outputs": []
    },
    {
      "cell_type": "code",
      "metadata": {
        "id": "nlLYjlHQQKE2"
      },
      "source": [
        "from gensim.models import Word2Vec\n",
        "model_en = Word2Vec(sentences=result_en, size = 256, window = 5,min_count=0,workers=4,sg=0)\n",
        "model_de = Word2Vec(sentences=result_de, size = 256, window = 5,min_count=0,workers=4,sg=0)"
      ],
      "execution_count": 13,
      "outputs": []
    },
    {
      "cell_type": "code",
      "metadata": {
        "id": "SV0VZJhETaPt"
      },
      "source": [
        "from gensim.models import KeyedVectors\n",
        "model_en.wv.save_word2vec_format('en_w2v') # 모델 저장\n",
        "loaded_model_en = KeyedVectors.load_word2vec_format(\"en_w2v\") # 모델 로드\n",
        "model_de.wv.save_word2vec_format('de_w2v') # 모델 저장\n",
        "loaded_model_de = KeyedVectors.load_word2vec_format(\"de_w2v\") # 모델 로드"
      ],
      "execution_count": 14,
      "outputs": []
    },
    {
      "cell_type": "code",
      "metadata": {
        "id": "Ssn2a_XCTDys"
      },
      "source": [
        "weights_en = torch.FloatTensor(loaded_model_en.vectors)\n",
        "weights_de = torch.FloatTensor(loaded_model_de.vectors)"
      ],
      "execution_count": 15,
      "outputs": []
    },
    {
      "cell_type": "code",
      "metadata": {
        "id": "d7tNanEyLZD8"
      },
      "source": [
        "'''\n",
        "def unicodeToAscii(s):\n",
        "    return ''.join(\n",
        "        c for c in unicodedata.normalize('NFD', s)\n",
        "        if unicodedata.category(c) != 'Mn'\n",
        "    )\n",
        "'''\n",
        "# 소문자, 다듬기, 그리고 문자가 아닌 문자 제거\n",
        "\n",
        "\n",
        "def normalizeString(data):\n",
        "    data[\"en\"] = re.sub(r\"[^a-zA-Z0-9]+\", r\" \", data[\"en\"])\n",
        "    data[\"en\"] = data[\"en\"].lower().strip()\n",
        "    \n",
        "    data[\"de\"] = re.sub(r\"[^a-zA-ZÄäÖöÜüß0-9]+\", r\" \", data[\"de\"])\n",
        "    data[\"de\"] = data[\"de\"].lower().strip()\n",
        "    return data"
      ],
      "execution_count": 16,
      "outputs": []
    },
    {
      "cell_type": "code",
      "metadata": {
        "id": "kgyRFyKaS7A0"
      },
      "source": [
        ""
      ],
      "execution_count": 16,
      "outputs": []
    },
    {
      "cell_type": "code",
      "metadata": {
        "id": "g4Jmw0OpO8Ol"
      },
      "source": [
        "MAX_LENGTH = 20\n",
        "\n",
        "def filterPair(p,lang1,lang2):\n",
        "    return 1<len(p[lang1].split(' ')) < MAX_LENGTH and \\\n",
        "        1<len(p[lang2].split(' ')) < MAX_LENGTH\n",
        "\n",
        "def filterPairs(pairs,lang1,lang2):\n",
        "    return [pair for pair in pairs if filterPair(pair,lang1,lang2)]"
      ],
      "execution_count": 17,
      "outputs": []
    },
    {
      "cell_type": "code",
      "metadata": {
        "id": "l8y0EaFTPDJV"
      },
      "source": [
        "def readLangs(dataset, reverse=False):\n",
        "    print(\"Reading lines...\")\n",
        "\n",
        "    # 모든 줄을 쌍으로 분리하고 정규화\n",
        "    # for i in range(len(dataset)):\n",
        "    #   for data in dataset[i]:\n",
        "    #     data = normalizeString(data)\n",
        "    data = []\n",
        "    if len(dataset)>3:\n",
        "      for d in dataset:\n",
        "        data.append(d)\n",
        "    else:\n",
        "      for i in range(len(dataset)):\n",
        "        for d in dataset[i]:\n",
        "          data.append(d)\n",
        "    for d in data:\n",
        "      d = normalizeString(d)\n",
        "    pairs = data\n",
        "\n",
        "    # 쌍을 뒤집고, Lang 인스턴스 생성\n",
        "    # input_lang = Lang(lang1)\n",
        "    # output_lang = Lang(lang2)\n",
        "    \n",
        "    return pairs"
      ],
      "execution_count": 18,
      "outputs": []
    },
    {
      "cell_type": "code",
      "metadata": {
        "colab": {
          "base_uri": "https://localhost:8080/"
        },
        "id": "UsYh3hz_N-Z1",
        "outputId": "a1ce9d49-f869-44b4-d609-634e541c0ed6"
      },
      "source": [
        "def prepareData(lang1, lang2, dataset,reverse=False):\n",
        "    pairs = readLangs(dataset, reverse)\n",
        "    print(\"Read %s sentence pairs\" % len(pairs))\n",
        "    pairs = filterPairs(pairs,lang1,lang2)\n",
        "    print(\"Trimmed to %s sentence pairs\" % len(pairs))\n",
        "    print(\"Counting words...\")\n",
        "\n",
        "    return pairs\n",
        "\n",
        "\n",
        "pairs = prepareData('de', 'en',dataset[:2], True)\n",
        "print(random.choice(pairs))\n",
        "test_pairs = prepareData('de', 'en',dataset[2], True)"
      ],
      "execution_count": 19,
      "outputs": [
        {
          "output_type": "stream",
          "name": "stdout",
          "text": [
            "Reading lines...\n",
            "Read 30014 sentence pairs\n",
            "Trimmed to 28450 sentence pairs\n",
            "Counting words...\n",
            "{'en': 'graying white man with glasses uses blacksmith tools', 'de': 'ein ergrauender weißer mann mit brille benutzt schmiedewerkzeuge'}\n",
            "Reading lines...\n",
            "Read 1000 sentence pairs\n",
            "Trimmed to 948 sentence pairs\n",
            "Counting words...\n"
          ]
        }
      ]
    },
    {
      "cell_type": "code",
      "metadata": {
        "id": "J6hRXSceEJEc"
      },
      "source": [
        "class EncoderRNN(nn.Module):\n",
        "    def __init__(self, input_size, hidden_size):\n",
        "        super(EncoderRNN, self).__init__()\n",
        "        self.hidden_size = hidden_size\n",
        "\n",
        "        self.embedding = nn.Embedding.from_pretrained(weights_de)\n",
        "        self.gru = nn.GRU(hidden_size, hidden_size)\n",
        "\n",
        "    def forward(self, input, hidden):\n",
        "        embedded = self.embedding(input).view(1, 1, -1)\n",
        "        output = embedded\n",
        "        output, hidden = self.gru(output, hidden)\n",
        "        return output, hidden\n",
        "\n",
        "    def initHidden(self):\n",
        "        return torch.zeros(1, 1, self.hidden_size, device=device)\n"
      ],
      "execution_count": 20,
      "outputs": []
    },
    {
      "cell_type": "code",
      "metadata": {
        "id": "zTyFDIa-ELg9"
      },
      "source": [
        "class DecoderRNN(nn.Module):\n",
        "    def __init__(self, hidden_size, output_size):\n",
        "        super(DecoderRNN, self).__init__()\n",
        "        self.hidden_size = hidden_size\n",
        "\n",
        "        self.embedding = nn.Embedding.from_pretrained(weights_en)\n",
        "        self.gru = nn.GRU(hidden_size, hidden_size)\n",
        "        self.out = nn.Linear(hidden_size, output_size)\n",
        "        self.softmax = nn.LogSoftmax(dim=1)\n",
        "\n",
        "    def forward(self, input, hidden):\n",
        "        output = self.embedding(input).view(1, 1, -1)\n",
        "        output = F.relu(output)\n",
        "        output, hidden = self.gru(output, hidden)\n",
        "        output = self.softmax(self.out(output[0]))\n",
        "        return output, hidden\n",
        "\n",
        "    def initHidden(self):\n",
        "        return torch.zeros(1, 1, self.hidden_size, device=device)"
      ],
      "execution_count": 21,
      "outputs": []
    },
    {
      "cell_type": "code",
      "metadata": {
        "id": "hHld9PZ9EPfg"
      },
      "source": [
        "class AttnDecoderRNN(nn.Module):\n",
        "    def __init__(self, hidden_size, output_size, dropout_p=0.1, max_length=MAX_LENGTH):\n",
        "        super(AttnDecoderRNN, self).__init__()\n",
        "        self.hidden_size = hidden_size\n",
        "        self.output_size = output_size\n",
        "        self.dropout_p = dropout_p\n",
        "        self.max_length = max_length\n",
        "\n",
        "        self.embedding = nn.Embedding(self.output_size, self.hidden_size)\n",
        "        self.attn = nn.Linear(self.hidden_size * 2, self.max_length)\n",
        "        self.attn_combine = nn.Linear(self.hidden_size * 2, self.hidden_size)\n",
        "        self.dropout = nn.Dropout(self.dropout_p)\n",
        "        self.gru = nn.GRU(self.hidden_size, self.hidden_size)\n",
        "        self.out = nn.Linear(self.hidden_size, self.output_size)\n",
        "\n",
        "    def forward(self, input, hidden, encoder_outputs):\n",
        "        embedded = self.embedding(input).view(1, 1, -1)\n",
        "        embedded = self.dropout(embedded)\n",
        "\n",
        "        attn_weights = F.softmax(\n",
        "            self.attn(torch.cat((embedded[0], hidden[0]), 1)), dim=1)\n",
        "        attn_applied = torch.bmm(attn_weights.unsqueeze(0),\n",
        "                                 encoder_outputs.unsqueeze(0))\n",
        "\n",
        "        output = torch.cat((embedded[0], attn_applied[0]), 1)\n",
        "        output = self.attn_combine(output).unsqueeze(0)\n",
        "\n",
        "        output = F.relu(output)\n",
        "        output, hidden = self.gru(output, hidden)\n",
        "\n",
        "        output = F.log_softmax(self.out(output[0]), dim=1)\n",
        "        return output, hidden, attn_weights\n",
        "\n",
        "    def initHidden(self):\n",
        "        return torch.zeros(1, 1, self.hidden_size, device=device)"
      ],
      "execution_count": 22,
      "outputs": []
    },
    {
      "cell_type": "markdown",
      "metadata": {
        "id": "9ek-40s38niv"
      },
      "source": [
        "# Transformer Model 적용\n"
      ]
    },
    {
      "cell_type": "code",
      "metadata": {
        "id": "2z9yKXbJ8kkj"
      },
      "source": [
        ""
      ],
      "execution_count": 22,
      "outputs": []
    },
    {
      "cell_type": "code",
      "metadata": {
        "id": "HbbtbZAg8kmT"
      },
      "source": [
        ""
      ],
      "execution_count": 22,
      "outputs": []
    },
    {
      "cell_type": "code",
      "metadata": {
        "id": "Y99JC1wq8koa"
      },
      "source": [
        ""
      ],
      "execution_count": 22,
      "outputs": []
    },
    {
      "cell_type": "code",
      "metadata": {
        "id": "OmV-YxCGERaE"
      },
      "source": [
        "def indexesFromSentence(lang, sentence):\n",
        "  if lang == 'en':\n",
        "    try:\n",
        "      return [loaded_model_en.vocab[word].index for word in sentence.lower().split(' ')]\n",
        "    except KeyError:\n",
        "      return []\n",
        "    \n",
        "  elif lang == 'de':\n",
        "    try:\n",
        "      return [loaded_model_de.vocab[word].index for word in sentence.lower().split(' ')]\n",
        "    except KeyError:\n",
        "      return []\n",
        "  else: print(\"lang key error\")\n",
        "\n",
        "def tensorFromSentence(lang, sentence):\n",
        "    indexes = indexesFromSentence(lang, sentence)\n",
        "    indexes.append(EOS_token)\n",
        "    return torch.tensor(indexes, dtype=torch.long, device=device).view(-1, 1)\n",
        "\n",
        "\n",
        "def tensorsFromPair(pair,lang1,lang2):\n",
        "    input_tensor = tensorFromSentence(lang1, pair[lang1])\n",
        "    target_tensor = tensorFromSentence(lang2, pair[lang2])\n",
        "    return (input_tensor, target_tensor)"
      ],
      "execution_count": 23,
      "outputs": []
    },
    {
      "cell_type": "code",
      "metadata": {
        "id": "8EhbUNMsEUWN"
      },
      "source": [
        "teacher_forcing_ratio = 0.5\n",
        "\n",
        "\n",
        "def train(input_tensor, target_tensor, encoder, decoder, encoder_optimizer, decoder_optimizer, criterion, max_length=MAX_LENGTH):\n",
        "    encoder_hidden = encoder.initHidden()\n",
        "\n",
        "    encoder_optimizer.zero_grad()\n",
        "    decoder_optimizer.zero_grad()\n",
        "\n",
        "    input_length = input_tensor.size(0)\n",
        "    target_length = target_tensor.size(0)\n",
        "\n",
        "    encoder_outputs = torch.zeros(max_length, encoder.hidden_size, device=device)\n",
        "\n",
        "    loss = 0\n",
        "\n",
        "    for ei in range(input_length):\n",
        "        encoder_output, encoder_hidden = encoder(input_tensor[ei], encoder_hidden)\n",
        "        encoder_outputs[ei] = encoder_output[0, 0]\n",
        "    decoder_input = torch.tensor([[SOS_token]], device=device)\n",
        "\n",
        "    decoder_hidden = encoder_hidden\n",
        "\n",
        "    use_teacher_forcing = True if random.random() < teacher_forcing_ratio else False\n",
        "\n",
        "    if use_teacher_forcing:\n",
        "        # Teacher forcing 포함: target을 다음 입력으로 전달\n",
        "        for di in range(target_length):\n",
        "            decoder_output, decoder_hidden, decoder_attention = decoder(\n",
        "                decoder_input, decoder_hidden, encoder_outputs)\n",
        "            loss += criterion(decoder_output, target_tensor[di])\n",
        "            decoder_input = target_tensor[di]  # Teacher forcing\n",
        "\n",
        "    else:\n",
        "        # Teacher forcing 미포함: 자신의 예측을 다음 입력으로 사용\n",
        "        for di in range(target_length):\n",
        "            decoder_output, decoder_hidden, decoder_attention = decoder(\n",
        "                decoder_input, decoder_hidden, encoder_outputs)\n",
        "            topv, topi = decoder_output.topk(1)\n",
        "            decoder_input = topi.squeeze().detach()  # 입력으로 사용할 부분을 히스토리에서 분리\n",
        "\n",
        "            loss += criterion(decoder_output, target_tensor[di])\n",
        "            if decoder_input.item() == EOS_token:\n",
        "                break\n",
        "\n",
        "    loss.backward()\n",
        "\n",
        "    encoder_optimizer.step()\n",
        "    decoder_optimizer.step()\n",
        "\n",
        "    return loss.item() / target_length"
      ],
      "execution_count": 24,
      "outputs": []
    },
    {
      "cell_type": "code",
      "metadata": {
        "id": "e8ptmApaEV_M"
      },
      "source": [
        "import time\n",
        "import math\n",
        "\n",
        "\n",
        "def asMinutes(s):\n",
        "    m = math.floor(s / 60)\n",
        "    s -= m * 60\n",
        "    return '%dm %ds' % (m, s)\n",
        "\n",
        "\n",
        "def timeSince(since, percent):\n",
        "    now = time.time()\n",
        "    s = now - since\n",
        "    es = s / (percent)\n",
        "    rs = es - s\n",
        "    return '%s (- %s)' % (asMinutes(s), asMinutes(rs))"
      ],
      "execution_count": 25,
      "outputs": []
    },
    {
      "cell_type": "code",
      "metadata": {
        "id": "2rbnJhjmEX67"
      },
      "source": [
        "def trainIters(encoder, decoder,lang1,lang2, n_iters, print_every=1000, plot_every=100, learning_rate=0.01):\n",
        "    start = time.time()\n",
        "    plot_losses = []\n",
        "    print_loss_total = 0  # print_every 마다 초기화\n",
        "    plot_loss_total = 0  # plot_every 마다 초기화\n",
        "\n",
        "    encoder_optimizer = optim.SGD(encoder.parameters(), lr=learning_rate)\n",
        "    decoder_optimizer = optim.SGD(decoder.parameters(), lr=learning_rate)\n",
        "    training_pairs = [tensorsFromPair(random.choice(pairs),lang1,lang2)\n",
        "                      for i in range(n_iters)]\n",
        "    criterion = nn.NLLLoss()\n",
        "\n",
        "    for iter in range(1, n_iters + 1):\n",
        "        training_pair = training_pairs[iter - 1]\n",
        "        input_tensor = training_pair[0]\n",
        "        target_tensor = training_pair[1]\n",
        "        loss = train(input_tensor, target_tensor, encoder,\n",
        "                     decoder, encoder_optimizer, decoder_optimizer, criterion)\n",
        "        print_loss_total += loss\n",
        "        plot_loss_total += loss\n",
        "\n",
        "        if iter % print_every == 0:\n",
        "            print_loss_avg = print_loss_total / print_every\n",
        "            print_loss_total = 0\n",
        "            print('%s (%d %d%%) %.4f' % (timeSince(start, iter / n_iters),\n",
        "                                         iter, iter / n_iters * 100, print_loss_avg))\n",
        "\n",
        "        if iter % plot_every == 0:\n",
        "            plot_loss_avg = plot_loss_total / plot_every\n",
        "            plot_losses.append(plot_loss_avg)\n",
        "            plot_loss_total = 0\n",
        "\n",
        "    showPlot(plot_losses)\n"
      ],
      "execution_count": 26,
      "outputs": []
    },
    {
      "cell_type": "code",
      "metadata": {
        "id": "ONStse-BEasv"
      },
      "source": [
        "import matplotlib.pyplot as plt\n",
        "plt.switch_backend('agg')\n",
        "import matplotlib.ticker as ticker\n",
        "import numpy as np\n",
        "\n",
        "\n",
        "def showPlot(points):\n",
        "    plt.figure()\n",
        "    fig, ax = plt.subplots()\n",
        "    # 주기적인 간격에 이 locator가 tick을 설정\n",
        "    loc = ticker.MultipleLocator(base=0.2)\n",
        "    ax.yaxis.set_major_locator(loc)\n",
        "    plt.plot(points)"
      ],
      "execution_count": 27,
      "outputs": []
    },
    {
      "cell_type": "code",
      "metadata": {
        "colab": {
          "base_uri": "https://localhost:8080/"
        },
        "id": "d6poXzdvEfhz",
        "outputId": "7890a99b-a9be-427f-9acf-29f45fccee92"
      },
      "source": [
        "SOS_token = 0\n",
        "EOS_token = 1\n",
        "hidden_size = 256\n",
        "encoder1 = EncoderRNN(len(loaded_model_en.wv.vocab), hidden_size).to(device)\n",
        "attn_decoder1 = AttnDecoderRNN(hidden_size, len(loaded_model_de.wv.vocab), dropout_p=0.1).to(device)\n",
        "\n",
        "trainIters(encoder1, attn_decoder1,'de','en', 75000, print_every=3000)"
      ],
      "execution_count": null,
      "outputs": [
        {
          "output_type": "stream",
          "name": "stderr",
          "text": [
            "/usr/local/lib/python3.7/dist-packages/ipykernel_launcher.py:4: DeprecationWarning: Call to deprecated `wv` (Attribute will be removed in 4.0.0, use self instead).\n",
            "  after removing the cwd from sys.path.\n",
            "/usr/local/lib/python3.7/dist-packages/ipykernel_launcher.py:5: DeprecationWarning: Call to deprecated `wv` (Attribute will be removed in 4.0.0, use self instead).\n",
            "  \"\"\"\n"
          ]
        },
        {
          "output_type": "stream",
          "name": "stdout",
          "text": [
            "2m 56s (- 70m 26s) (3000 4%) 3.9834\n"
          ]
        }
      ]
    },
    {
      "cell_type": "code",
      "metadata": {
        "id": "Dp0Hyh3TEchq"
      },
      "source": [
        "import nltk.translate.bleu_score as bleu\n",
        "\n",
        "def evaluate(encoder, decoder, sentence,target, max_length=MAX_LENGTH,input_lang='de',output_lang='en'):\n",
        "    with torch.no_grad():\n",
        "        input_tensor = tensorFromSentence(input_lang, sentence)\n",
        "        input_length = input_tensor.size()[0]\n",
        "        encoder_hidden = encoder.initHidden()\n",
        "\n",
        "        encoder_outputs = torch.zeros(max_length, encoder.hidden_size, device=device)\n",
        "\n",
        "        for ei in range(input_length):\n",
        "            encoder_output, encoder_hidden = encoder(input_tensor[ei],\n",
        "                                                     encoder_hidden)\n",
        "            encoder_outputs[ei] += encoder_output[0, 0]\n",
        "\n",
        "        decoder_input = torch.tensor([[SOS_token]], device=device)  # SOS\n",
        "\n",
        "        decoder_hidden = encoder_hidden\n",
        "\n",
        "        decoded_words = []\n",
        "        decoder_attentions = torch.zeros(max_length, max_length)\n",
        "\n",
        "        for di in range(max_length):\n",
        "            decoder_output, decoder_hidden, decoder_attention = decoder(\n",
        "                decoder_input, decoder_hidden, encoder_outputs)\n",
        "            decoder_attentions[di] = decoder_attention.data\n",
        "            topv, topi = decoder_output.data.topk(1)\n",
        "            if topi.item() == EOS_token:\n",
        "                decoded_words.append('<EOS>')\n",
        "                break\n",
        "            else:\n",
        "                decoded_words.append(loaded_model_en.wv.index2word[topi.item()])\n",
        "\n",
        "            decoder_input = topi.squeeze().detach()\n",
        "        bleu_score = bleu.sentence_bleu(decoded_words,target)\n",
        "        return decoded_words, decoder_attentions[:di + 1], bleu_score"
      ],
      "execution_count": null,
      "outputs": []
    },
    {
      "cell_type": "code",
      "metadata": {
        "id": "S4FoUdz4EdyW"
      },
      "source": [
        "def evaluateRandomly(encoder, decoder,lang1,lang2, n=10):\n",
        "    final_score = 0.0\n",
        "    for i in range(len(test_pairs)):\n",
        "        pair = test_pairs[i]\n",
        "        output_words, attentions, bleu_score = evaluate(encoder, decoder, pair[lang1],pair[lang2])\n",
        "        final_score += bleu_score\n",
        "    final_score = final_score/len(test_pairs)\n",
        "    print(final_score)\n",
        "    return final_score"
      ],
      "execution_count": null,
      "outputs": []
    },
    {
      "cell_type": "code",
      "metadata": {
        "id": "EzX4F-DLEg0R"
      },
      "source": [
        "evaluateRandomly(encoder1, attn_decoder1,'de','en')\n"
      ],
      "execution_count": null,
      "outputs": []
    },
    {
      "cell_type": "code",
      "metadata": {
        "id": "msTL4jXNjKd-"
      },
      "source": [
        "import nltk.translate.bleu_score as bleu\n",
        "candidate = 'It is a guide to action which ensures that the military always obeys the commands of the party'\n",
        "references = [\n",
        "    'It is a guide to action that ensures that the military will forever heed Party commands',\n",
        "]\n",
        "print(bleu.sentence_bleu(list(map(lambda ref: ref.split(), references)),candidate.split()))"
      ],
      "execution_count": null,
      "outputs": []
    },
    {
      "cell_type": "code",
      "metadata": {
        "id": "hXm4Tzk3DFtQ"
      },
      "source": [
        "def evaluate(encoder, decoder, sentence, max_length=MAX_LENGTH):\n",
        "    with torch.no_grad():\n",
        "        input_tensor = tensorFromSentence(input_lang, sentence, target)\n",
        "        input_length = input_tensor.size()[0]\n",
        "        encoder_hidden = encoder.initHidden()\n",
        "\n",
        "        encoder_outputs = torch.zeros(max_length, encoder.hidden_size, device=device)\n",
        "\n",
        "        for ei in range(input_length):\n",
        "            encoder_output, encoder_hidden = encoder(input_tensor[ei],\n",
        "                                                     encoder_hidden)\n",
        "            encoder_outputs[ei] += encoder_output[0, 0]\n",
        "\n",
        "        decoder_input = torch.tensor([[SOS_token]], device=device)  # SOS\n",
        "\n",
        "        decoder_hidden = encoder_hidden\n",
        "\n",
        "        decoded_words = []\n",
        "        decoder_attentions = torch.zeros(max_length, max_length)\n",
        "\n",
        "        for di in range(max_length):\n",
        "            decoder_output, decoder_hidden, decoder_attention = decoder(\n",
        "                decoder_input, decoder_hidden, encoder_outputs)\n",
        "            decoder_attentions[di] = decoder_attention.data\n",
        "            topv, topi = decoder_output.data.topk(1)\n",
        "            if topi.item() == EOS_token:\n",
        "                decoded_words.append('<EOS>')\n",
        "                break\n",
        "            else:\n",
        "                decoded_words.append(output_lang.index2word[topi.item()])\n",
        "\n",
        "            decoder_input = topi.squeeze().detach()\n",
        "        bleu_score = bleu.sentence_bleu(decoded_words,target)\n",
        "        return decoded_words, decoder_attentions[:di + 1], bleu_score"
      ],
      "execution_count": null,
      "outputs": []
    },
    {
      "cell_type": "code",
      "metadata": {
        "id": "jCVPVNJHadxc"
      },
      "source": [
        "def evaluateRandomly(encoder, decoder,lang1,lang2, n=10):\n",
        "    for i in range(len()):\n",
        "        pair = random.choice(pairs)\n",
        "        print('>', pair[lang1])\n",
        "        print('=', pair[lang2])\n",
        "        output_words, attentions = evaluate(encoder, decoder, pair[lang1],pair[lang2])\n",
        "        output_sentence = ' '.join(output_words)\n",
        "        print('<', output_sentence)\n",
        "        print('')"
      ],
      "execution_count": null,
      "outputs": []
    }
  ]
}